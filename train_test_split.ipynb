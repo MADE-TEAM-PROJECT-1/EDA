{
 "cells": [
  {
   "cell_type": "code",
   "execution_count": 1,
   "id": "85e24022-7415-48c2-b1ea-e5adf3ce4b91",
   "metadata": {},
   "outputs": [],
   "source": [
    "import pandas as pd\n",
    "import numpy as np\n",
    "import pickle\n",
    "from collections import defaultdict, deque\n",
    "from itertools import combinations\n",
    "from tqdm.notebook import tqdm"
   ]
  },
  {
   "cell_type": "code",
   "execution_count": 2,
   "id": "19e68360-59dc-404b-8fe7-c4949bb2d2a8",
   "metadata": {},
   "outputs": [],
   "source": [
    "COLUMNS_TO_DROP = ['n_citation', 'keywords', 'fos', 'title', 'abstract', 'venue']\n",
    "NUM_PARTS = 3\n",
    "RANDOM_STATE = 42\n",
    "TRAIN_SIZE = 0.8\n",
    "\n",
    "def get_data(file_path):\n",
    "    data = pd.read_json(file_path).drop(COLUMNS_TO_DROP, axis=1)\n",
    "    return data\n",
    "\n",
    "def save_pickle(obj, filename):\n",
    "    with open(filename, 'wb') as f:\n",
    "        pickle.dump(obj, f)\n",
    "\n",
    "def load_pickle(filename):\n",
    "    with open(filename, 'rb') as f:\n",
    "        return pickle.load(f)"
   ]
  },
  {
   "cell_type": "code",
   "execution_count": 3,
   "id": "5d71ab03-5ec9-4d83-8e67-deeabd98e413",
   "metadata": {
    "tags": []
   },
   "outputs": [
    {
     "name": "stdout",
     "output_type": "stream",
     "text": [
      "<class 'pandas.core.frame.DataFrame'>\n",
      "Int64Index: 1084405 entries, 0 to 1084404\n",
      "Data columns (total 4 columns):\n",
      " #   Column      Non-Null Count    Dtype \n",
      "---  ------      --------------    ----- \n",
      " 0   _id         1084405 non-null  object\n",
      " 1   year        1084405 non-null  int64 \n",
      " 2   references  1084405 non-null  object\n",
      " 3   authors     1084405 non-null  object\n",
      "dtypes: int64(1), object(3)\n",
      "memory usage: 41.4+ MB\n"
     ]
    }
   ],
   "source": [
    "# articles = pd.concat(get_data(f'data/part_{i+1}_clean.json') for i in range(NUM_PARTS))\n",
    "# articles.reset_index(drop=True, inplace=True)\n",
    "# articles.to_json('articles_tts.json')\n",
    "articles = pd.read_json('articles_tts.json')\n",
    "N = articles.shape[0]\n",
    "articles.info()"
   ]
  },
  {
   "cell_type": "code",
   "execution_count": 4,
   "id": "d13acea4-2cc0-48a5-93ed-4af837a3a535",
   "metadata": {},
   "outputs": [
    {
     "data": {
      "text/html": [
       "<div>\n",
       "<style scoped>\n",
       "    .dataframe tbody tr th:only-of-type {\n",
       "        vertical-align: middle;\n",
       "    }\n",
       "\n",
       "    .dataframe tbody tr th {\n",
       "        vertical-align: top;\n",
       "    }\n",
       "\n",
       "    .dataframe thead th {\n",
       "        text-align: right;\n",
       "    }\n",
       "</style>\n",
       "<table border=\"1\" class=\"dataframe\">\n",
       "  <thead>\n",
       "    <tr style=\"text-align: right;\">\n",
       "      <th></th>\n",
       "      <th>_id</th>\n",
       "      <th>year</th>\n",
       "      <th>references</th>\n",
       "      <th>authors</th>\n",
       "    </tr>\n",
       "  </thead>\n",
       "  <tbody>\n",
       "    <tr>\n",
       "      <th>58561</th>\n",
       "      <td>53e99ad7b7602d9702357302</td>\n",
       "      <td>0</td>\n",
       "      <td>[53e9a53ab7602d9702e5fda9, 53e9b350b7602d9703e...</td>\n",
       "      <td>[{'_id': '53f431b5dabfaee4dc75054f', 'name': '...</td>\n",
       "    </tr>\n",
       "    <tr>\n",
       "      <th>1070925</th>\n",
       "      <td>5c2c7a6717c44a4e7cf30f13</td>\n",
       "      <td>0</td>\n",
       "      <td>[558c6cb4e4b0cfb70a1d9a18, 599c785a601a182cd25...</td>\n",
       "      <td>[{'_id': '53f42bffdabfaeb22f3f31e4', 'name': '...</td>\n",
       "    </tr>\n",
       "    <tr>\n",
       "      <th>1071185</th>\n",
       "      <td>5c38b5463a55acc9e54e1b8a</td>\n",
       "      <td>0</td>\n",
       "      <td>[558b6436e4b037c0875c9f57, 53e99fe9b7602d97028...</td>\n",
       "      <td>[{'_id': '53f437aedabfaedce553aec1', 'name': '...</td>\n",
       "    </tr>\n",
       "    <tr>\n",
       "      <th>1072180</th>\n",
       "      <td>5c5ce4fd17c44a400fc380e6</td>\n",
       "      <td>0</td>\n",
       "      <td>[53e99b43b7602d97023e4719, 53e99de2b7602d97026...</td>\n",
       "      <td>[{'_id': '53f42bffdabfaeb22f3f31e4', 'name': '...</td>\n",
       "    </tr>\n",
       "    <tr>\n",
       "      <th>152205</th>\n",
       "      <td>53e99eaeb7602d9702777569</td>\n",
       "      <td>0</td>\n",
       "      <td>[53e9bdd5b7602d9704a86144, 53e9af19b7602d97039...</td>\n",
       "      <td>[{'_id': '53f3aaebdabfae4b34af69b9', 'name': '...</td>\n",
       "    </tr>\n",
       "    <tr>\n",
       "      <th>...</th>\n",
       "      <td>...</td>\n",
       "      <td>...</td>\n",
       "      <td>...</td>\n",
       "      <td>...</td>\n",
       "    </tr>\n",
       "    <tr>\n",
       "      <th>567655</th>\n",
       "      <td>53e9b2f5b7602d9703db387c</td>\n",
       "      <td>2300</td>\n",
       "      <td>[53e9a37ab7602d9702c8997f, 53e9ad63b7602d97037...</td>\n",
       "      <td>[{'_id': '56cb189bc35f4f3c65654efd', 'name': '...</td>\n",
       "    </tr>\n",
       "    <tr>\n",
       "      <th>152867</th>\n",
       "      <td>53e99eb5b7602d970277e3f2</td>\n",
       "      <td>2300</td>\n",
       "      <td>[53e99f78b7602d970284e318, 53e99837b7602d97020...</td>\n",
       "      <td>[{'_id': '53f434dcdabfaeb22f463a4d', 'name': '...</td>\n",
       "    </tr>\n",
       "    <tr>\n",
       "      <th>275647</th>\n",
       "      <td>53e9a4b2b7602d9702dd3641</td>\n",
       "      <td>2300</td>\n",
       "      <td>[53e999c3b7602d97022073a4, 5c78dbc94895d9cbc6f...</td>\n",
       "      <td>[{'_id': '53f444fadabfaedf435c6f95', 'name': '...</td>\n",
       "    </tr>\n",
       "    <tr>\n",
       "      <th>139098</th>\n",
       "      <td>53e99e28b7602d97026ebec5</td>\n",
       "      <td>2300</td>\n",
       "      <td>[557d34e66feeaa8086da8181, 558ac89fe4b0b32fcb3...</td>\n",
       "      <td>[{'_id': '53f43265dabfaee1c0a74818', 'name': '...</td>\n",
       "    </tr>\n",
       "    <tr>\n",
       "      <th>434921</th>\n",
       "      <td>53e9ac95b7602d970366ff71</td>\n",
       "      <td>9737</td>\n",
       "      <td>[53e99afeb7602d970238d0df, 53e9a50fb7602d9702e...</td>\n",
       "      <td>[{'_id': '5447e916dabfae85758fd7fd', 'name': '...</td>\n",
       "    </tr>\n",
       "  </tbody>\n",
       "</table>\n",
       "<p>1084405 rows × 4 columns</p>\n",
       "</div>"
      ],
      "text/plain": [
       "                              _id  year  \\\n",
       "58561    53e99ad7b7602d9702357302     0   \n",
       "1070925  5c2c7a6717c44a4e7cf30f13     0   \n",
       "1071185  5c38b5463a55acc9e54e1b8a     0   \n",
       "1072180  5c5ce4fd17c44a400fc380e6     0   \n",
       "152205   53e99eaeb7602d9702777569     0   \n",
       "...                           ...   ...   \n",
       "567655   53e9b2f5b7602d9703db387c  2300   \n",
       "152867   53e99eb5b7602d970277e3f2  2300   \n",
       "275647   53e9a4b2b7602d9702dd3641  2300   \n",
       "139098   53e99e28b7602d97026ebec5  2300   \n",
       "434921   53e9ac95b7602d970366ff71  9737   \n",
       "\n",
       "                                                references  \\\n",
       "58561    [53e9a53ab7602d9702e5fda9, 53e9b350b7602d9703e...   \n",
       "1070925  [558c6cb4e4b0cfb70a1d9a18, 599c785a601a182cd25...   \n",
       "1071185  [558b6436e4b037c0875c9f57, 53e99fe9b7602d97028...   \n",
       "1072180  [53e99b43b7602d97023e4719, 53e99de2b7602d97026...   \n",
       "152205   [53e9bdd5b7602d9704a86144, 53e9af19b7602d97039...   \n",
       "...                                                    ...   \n",
       "567655   [53e9a37ab7602d9702c8997f, 53e9ad63b7602d97037...   \n",
       "152867   [53e99f78b7602d970284e318, 53e99837b7602d97020...   \n",
       "275647   [53e999c3b7602d97022073a4, 5c78dbc94895d9cbc6f...   \n",
       "139098   [557d34e66feeaa8086da8181, 558ac89fe4b0b32fcb3...   \n",
       "434921   [53e99afeb7602d970238d0df, 53e9a50fb7602d9702e...   \n",
       "\n",
       "                                                   authors  \n",
       "58561    [{'_id': '53f431b5dabfaee4dc75054f', 'name': '...  \n",
       "1070925  [{'_id': '53f42bffdabfaeb22f3f31e4', 'name': '...  \n",
       "1071185  [{'_id': '53f437aedabfaedce553aec1', 'name': '...  \n",
       "1072180  [{'_id': '53f42bffdabfaeb22f3f31e4', 'name': '...  \n",
       "152205   [{'_id': '53f3aaebdabfae4b34af69b9', 'name': '...  \n",
       "...                                                    ...  \n",
       "567655   [{'_id': '56cb189bc35f4f3c65654efd', 'name': '...  \n",
       "152867   [{'_id': '53f434dcdabfaeb22f463a4d', 'name': '...  \n",
       "275647   [{'_id': '53f444fadabfaedf435c6f95', 'name': '...  \n",
       "139098   [{'_id': '53f43265dabfaee1c0a74818', 'name': '...  \n",
       "434921   [{'_id': '5447e916dabfae85758fd7fd', 'name': '...  \n",
       "\n",
       "[1084405 rows x 4 columns]"
      ]
     },
     "execution_count": 4,
     "metadata": {},
     "output_type": "execute_result"
    }
   ],
   "source": [
    "articles.sort_values('year', inplace=True)\n",
    "articles"
   ]
  },
  {
   "cell_type": "code",
   "execution_count": 5,
   "id": "46965318-28f7-4c21-8e3b-75d0eddfa736",
   "metadata": {},
   "outputs": [],
   "source": [
    "# article_to_authors_id, author_to_articles_id = defaultdict(set), defaultdict(set)\n",
    "\n",
    "# for _, article in tqdm(articles.iterrows(), total=articles.shape[0]):\n",
    "#     for author in article.authors:\n",
    "#         article_to_authors_id[article._id].add(author['_id'])\n",
    "#         author_to_articles_id[author['_id']].add(article._id)\n",
    "\n",
    "# save_pickle(article_to_authors_id, 'article_to_authors_id.pickle')\n",
    "# save_pickle(author_to_articles_id, 'author_to_articles_id.pickle')"
   ]
  },
  {
   "cell_type": "code",
   "execution_count": 6,
   "id": "24b63a51-4f9c-49d8-bed9-cee8b65a1147",
   "metadata": {},
   "outputs": [],
   "source": [
    "article_to_authors_id = load_pickle('article_to_authors_id.pickle')\n",
    "author_to_articles_id = load_pickle('author_to_articles_id.pickle')"
   ]
  },
  {
   "cell_type": "code",
   "execution_count": 7,
   "id": "755bb275-03c8-4c07-9e1e-3854c4d2691c",
   "metadata": {},
   "outputs": [
    {
     "data": {
      "text/plain": [
       "1199286"
      ]
     },
     "execution_count": 7,
     "metadata": {},
     "output_type": "execute_result"
    }
   ],
   "source": [
    "assert len(article_to_authors_id) == N\n",
    "len(author_to_articles_id)"
   ]
  },
  {
   "cell_type": "markdown",
   "id": "3528b364-a643-4447-bdea-9f2b5d3aad03",
   "metadata": {},
   "source": [
    "# 1) Search for connected components by authors using BFS"
   ]
  },
  {
   "cell_type": "markdown",
   "id": "e7974b56-2ab1-4ebc-a552-93d8e7a13a8f",
   "metadata": {},
   "source": [
    "## Starting from atricle, iterate over all authors, add their papers to deque and to current connected component"
   ]
  },
  {
   "cell_type": "code",
   "execution_count": 20,
   "id": "364ff3aa-852c-4cf8-a5c1-4533b2cd6f58",
   "metadata": {},
   "outputs": [],
   "source": [
    "# this approach doesn't work because there exist only one connected component in space of articles\n",
    "def bfs1(article_id: str) -> set[str]:\n",
    "    \"\"\"\n",
    "    return: all article_ids from connected componend with given @article_id\n",
    "    \"\"\"\n",
    "    connected_component = set([article_id])\n",
    "    deq = deque([article_id])\n",
    "    while deq:\n",
    "        _article_id = deq.popleft()\n",
    "        connected_component.add(_article_id)\n",
    "        for author_id in article_to_authors_id[_article_id]:\n",
    "            for article in author_to_articles_id[author_id]:\n",
    "                if article not in deq and article not in connected_component:\n",
    "                    deq.append(article)\n",
    "\n",
    "    return connected_component"
   ]
  },
  {
   "cell_type": "markdown",
   "id": "b5da975e",
   "metadata": {},
   "source": [
    "## This doesn't work because bfs1 above iterates over all articles. Seems that whole graph is single component."
   ]
  },
  {
   "cell_type": "markdown",
   "id": "2556cbb8",
   "metadata": {},
   "source": [
    "## Next we populating deque by articles, that include two authors of current article."
   ]
  },
  {
   "cell_type": "code",
   "execution_count": 9,
   "id": "871d56b6",
   "metadata": {},
   "outputs": [],
   "source": [
    "def bfs2(article_id: str, num_common_articles) -> set[str]:\n",
    "    \"\"\"\n",
    "    for current article we add all other articles with more than one common authors\n",
    "    return: all article_ids from connected componend with given @article_id\n",
    "    \"\"\"\n",
    "    connected_component = set()\n",
    "    visited = set()\n",
    "    deq = deque([article_id])\n",
    "    i = 0\n",
    "    while deq:\n",
    "        _article_id = deq.popleft()\n",
    "        visited.add(_article_id)\n",
    "        connected_component.add(_article_id)\n",
    "        authors = sorted(article_to_authors_id[_article_id])\n",
    "        for author1, author2 in combinations(authors, 2):\n",
    "            if (author1, author2) not in visited:\n",
    "                visited.add((author1, author2))\n",
    "                atricles_intersection = author_to_articles_id[author1] & author_to_articles_id[author2]\n",
    "                if len(atricles_intersection) >= num_common_articles:\n",
    "                    for article in atricles_intersection:\n",
    "                        if article not in deq and article not in visited:\n",
    "                            deq.append(article)\n",
    "\n",
    "    return connected_component"
   ]
  },
  {
   "cell_type": "code",
   "execution_count": 10,
   "id": "78910dfc-fef4-46d2-a516-4dfd0cdd8415",
   "metadata": {},
   "outputs": [
    {
     "data": {
      "application/vnd.jupyter.widget-view+json": {
       "model_id": "40709b15e22d44108a07d33bf7621446",
       "version_major": 2,
       "version_minor": 0
      },
      "text/plain": [
       "  0%|          | 0/1084405 [00:00<?, ?it/s]"
      ]
     },
     "metadata": {},
     "output_type": "display_data"
    },
    {
     "name": "stdout",
     "output_type": "stream",
     "text": [
      "CPU times: total: 5min 39s\n",
      "Wall time: 5min 38s\n"
     ]
    }
   ],
   "source": [
    "%%time\n",
    "train_article_ids2 = set()\n",
    "\n",
    "for _, article in tqdm(articles.iterrows(), total=articles.shape[0]):\n",
    "    if article._id not in train_article_ids2:\n",
    "        cc = bfs2(article._id, num_common_articles=2)\n",
    "        train_article_ids2 |= cc\n",
    "        if len(train_article_ids2) > TRAIN_SIZE * N:\n",
    "            break\n",
    "\n",
    "test_article_ids2 = set(articles._id.values) - train_article_ids2\n",
    "assert len(train_article_ids2) + len(test_article_ids2) == N\n",
    "\n",
    "save_pickle(train_article_ids2, 'train_article_ids2.pickle')\n",
    "save_pickle(test_article_ids2, 'test_article_ids2.pickle')"
   ]
  },
  {
   "cell_type": "code",
   "execution_count": 12,
   "id": "ccc12db9-b853-4215-9c2f-1fb680df51aa",
   "metadata": {},
   "outputs": [
    {
     "data": {
      "text/plain": [
       "(867525, 216880)"
      ]
     },
     "execution_count": 12,
     "metadata": {},
     "output_type": "execute_result"
    }
   ],
   "source": [
    "len(train_article_ids2), len(test_article_ids2)"
   ]
  },
  {
   "cell_type": "code",
   "execution_count": 15,
   "id": "adce5acf-22d2-43f6-9e57-fc0cb437af7f",
   "metadata": {},
   "outputs": [
    {
     "name": "stdout",
     "output_type": "stream",
     "text": [
      "3\n",
      "Klaus Didrich\tCarola Gerke\tWolfgang Grieskamp\tChristian Maeder\tPeter Pepper\n",
      "Klaus Didrich\tAndreas Fett\tCarola Gerke\tWolfgang Grieskamp\tPeter Pepper\n",
      "Klaus Didrich\tCarola Gerke\tWolfgang Grieskamp\tChristian Maeder\tPeter Pepper\n"
     ]
    }
   ],
   "source": [
    "cc = bfs2(articles.iloc[0]._id, num_common_articles=2)\n",
    "s = articles.loc[articles._id.isin(cc)]\n",
    "print(len(cc))\n",
    "for _, row in s.iterrows():\n",
    "    print('\\t'.join(author['name'] for author in row.authors))"
   ]
  },
  {
   "cell_type": "markdown",
   "id": "59bda5f6-f69e-4162-8b99-54ccc46ec932",
   "metadata": {},
   "source": [
    "### Let set `num_common_articles=3` in `bfs2` so that for each two authors we will select those articles, that lie in intersection of articles of these authors and size of intersection is at least 3."
   ]
  },
  {
   "cell_type": "code",
   "execution_count": 11,
   "id": "ba9ae058-2d74-4d8e-8b8e-1a2b2d9c40f8",
   "metadata": {},
   "outputs": [
    {
     "data": {
      "application/vnd.jupyter.widget-view+json": {
       "model_id": "42483efbd0544164b0da7c0264b2b870",
       "version_major": 2,
       "version_minor": 0
      },
      "text/plain": [
       "  0%|          | 0/1084405 [00:00<?, ?it/s]"
      ]
     },
     "metadata": {},
     "output_type": "display_data"
    },
    {
     "name": "stdout",
     "output_type": "stream",
     "text": [
      "CPU times: total: 2min 38s\n",
      "Wall time: 2min 38s\n"
     ]
    }
   ],
   "source": [
    "%%time\n",
    "train_article_ids3 = set()\n",
    "\n",
    "for _, article in tqdm(articles.iterrows(), total=articles.shape[0]):\n",
    "    if article._id not in train_article_ids3:\n",
    "        cc = bfs2(article._id, num_common_articles=3)\n",
    "        train_article_ids3 |= cc\n",
    "        if len(train_article_ids3) > TRAIN_SIZE * N:\n",
    "            break\n",
    "\n",
    "test_article_ids3 = set(articles._id.values) - train_article_ids3\n",
    "assert len(train_article_ids3) + len(test_article_ids3) == N\n",
    "\n",
    "save_pickle(train_article_ids3, 'train_article_ids3.pickle')\n",
    "save_pickle(test_article_ids3, 'test_article_ids3.pickle')"
   ]
  },
  {
   "cell_type": "code",
   "execution_count": 13,
   "id": "a0aaedc3-81fd-462a-8c6a-430510295c90",
   "metadata": {},
   "outputs": [
    {
     "data": {
      "text/plain": [
       "(867525, 216880)"
      ]
     },
     "execution_count": 13,
     "metadata": {},
     "output_type": "execute_result"
    }
   ],
   "source": [
    "len(train_article_ids3), len(test_article_ids3)"
   ]
  },
  {
   "cell_type": "code",
   "execution_count": 16,
   "id": "982e4976-8191-4526-82de-01e296290f0a",
   "metadata": {},
   "outputs": [
    {
     "name": "stdout",
     "output_type": "stream",
     "text": [
      "3\n",
      "Klaus Didrich\tCarola Gerke\tWolfgang Grieskamp\tChristian Maeder\tPeter Pepper\n",
      "Klaus Didrich\tAndreas Fett\tCarola Gerke\tWolfgang Grieskamp\tPeter Pepper\n",
      "Klaus Didrich\tCarola Gerke\tWolfgang Grieskamp\tChristian Maeder\tPeter Pepper\n"
     ]
    }
   ],
   "source": [
    "cc = bfs2(articles.iloc[0]._id, num_common_articles=3)\n",
    "s = articles.loc[articles._id.isin(cc)]\n",
    "print(len(cc))\n",
    "for _, row in s.iterrows():\n",
    "    print('\\t'.join(author['name'] for author in row.authors))"
   ]
  },
  {
   "cell_type": "markdown",
   "id": "474e8f70-be52-40cd-bcfe-e7fec3884a73",
   "metadata": {},
   "source": [
    "### Now let iterate over triplets of authors of current article and populate deque from common articles."
   ]
  },
  {
   "cell_type": "code",
   "execution_count": 17,
   "id": "7cd7b99c-42fe-4601-a1e1-9200d45b76db",
   "metadata": {},
   "outputs": [],
   "source": [
    "def bfs3(article_id: str, num_common_articles=2) -> set[str]:\n",
    "    \"\"\"\n",
    "    for current article we add all other articles with more than one common authors\n",
    "    return: all article_ids from connected componend with given @article_id\n",
    "    \"\"\"\n",
    "    connected_component = set()\n",
    "    visited = set()\n",
    "    deq = deque([article_id])\n",
    "    while deq:\n",
    "        _article_id = deq.popleft()\n",
    "        visited.add(_article_id)\n",
    "        connected_component.add(_article_id)\n",
    "        authors = sorted(article_to_authors_id[_article_id])\n",
    "        for author1, author2, author3 in combinations(authors, 3):\n",
    "            if (author1, author2, author3) not in visited:\n",
    "                visited.add((author1, author2, author3))\n",
    "                atricles_intersection = author_to_articles_id[author1] & author_to_articles_id[author2] & author_to_articles_id[author3]\n",
    "                if len(atricles_intersection) >= num_common_articles:\n",
    "                    for article in atricles_intersection:\n",
    "                        if article not in deq and article not in visited:\n",
    "                            deq.append(article)\n",
    "\n",
    "    return connected_component"
   ]
  },
  {
   "cell_type": "code",
   "execution_count": 18,
   "id": "d54fceb7-214f-4ad4-8c7c-9260b8148f65",
   "metadata": {},
   "outputs": [
    {
     "data": {
      "application/vnd.jupyter.widget-view+json": {
       "model_id": "3aed8cad22694e9d9312b322fa769411",
       "version_major": 2,
       "version_minor": 0
      },
      "text/plain": [
       "  0%|          | 0/1084405 [00:00<?, ?it/s]"
      ]
     },
     "metadata": {},
     "output_type": "display_data"
    }
   ],
   "source": [
    "train_article_ids_by_triplets = set()\n",
    "\n",
    "for _, article in tqdm(articles.iterrows(), total=articles.shape[0]):\n",
    "    if article._id not in train_article_ids_by_triplets:\n",
    "        cc = bfs3(article._id)\n",
    "        train_article_ids_by_triplets |= cc\n",
    "        if len(train_article_ids_by_triplets) > TRAIN_SIZE * N:\n",
    "            break"
   ]
  },
  {
   "cell_type": "code",
   "execution_count": 116,
   "id": "8ab5f011-345a-42d1-b412-c826bd2427a2",
   "metadata": {},
   "outputs": [
    {
     "data": {
      "text/plain": [
       "867525"
      ]
     },
     "execution_count": 116,
     "metadata": {},
     "output_type": "execute_result"
    }
   ],
   "source": [
    "len(train_article_ids_by_triplets)"
   ]
  },
  {
   "cell_type": "code",
   "execution_count": 103,
   "id": "4b6b64cd-54fb-400b-86de-fbc31f64f70e",
   "metadata": {},
   "outputs": [
    {
     "data": {
      "text/plain": [
       "0.8000009221646894"
      ]
     },
     "execution_count": 103,
     "metadata": {},
     "output_type": "execute_result"
    }
   ],
   "source": [
    "len(train_article_ids_by_triplets) / N"
   ]
  },
  {
   "cell_type": "code",
   "execution_count": 202,
   "id": "baf47227-ab16-4703-b164-da5ee38fd217",
   "metadata": {},
   "outputs": [
    {
     "name": "stdout",
     "output_type": "stream",
     "text": [
      "9 5c2c7a6717c44a4e7cf30b18\n",
      "Zoe L. Jiang\tJin Yabin\tWang Xuan\tFang Junbin\n",
      "Liu Xiaoyan\tZoe L. Jiang\tWang Xuan\tLi Ye\tLiu Zechao\tJin Yabin\tFang Junbin\n",
      "Wang Xuan\tFang Junbin\tLi Jin\tJin Yabin\tHuang Jiajun\n",
      "Liu Zechao\tZoe L. Jiang\tWang Xuan\tZhang Chunkai\tZhao Xiaomeng\n",
      "Li Ye\tZoe L. Jiang\tWang Xuan\tLiao Qing\n",
      "Li Ye\tZoe L. Jiang\tWang Xuan\n",
      "Li Ye\tZoe L. Jiang\tWang Xuan\tFang Junbin\n",
      "Liu Meng\tWang Xuan\tYang Chi\tJiang Zoe Lin\tLi Ye\n",
      "Li Ye\tZoe L. Jiang\tWang Xuan\n"
     ]
    }
   ],
   "source": [
    "cc = bfs3(articles.iloc[33]._id, num_common_articles=2)\n",
    "s = articles.loc[articles._id.isin(cc)]\n",
    "print(len(cc), articles.iloc[33]._id)\n",
    "for _, row in s.iterrows():\n",
    "    print('\\t'.join(author['name'] for author in row.authors))"
   ]
  },
  {
   "cell_type": "markdown",
   "id": "b6f0087e",
   "metadata": {},
   "source": [
    "# 2) Search for connected components by references"
   ]
  },
  {
   "cell_type": "code",
   "execution_count": 174,
   "id": "d57e1616",
   "metadata": {},
   "outputs": [],
   "source": [
    "def bfs_by_ref(article_id: str) -> set[str]:\n",
    "    \"\"\"\n",
    "    return: all article_ids from connected componend with given @article_id\n",
    "    \"\"\"\n",
    "    connected_component = set([article_id])\n",
    "    deq = deque([article_id])\n",
    "    i = 0\n",
    "    while deq:\n",
    "        _article_id = deq.popleft()\n",
    "        connected_component.add(_article_id)\n",
    "        references = articles.query(f\"_id == '{_article_id}'\").references.values.tolist()\n",
    "        if references:\n",
    "            for ref in references[0]:\n",
    "                if ref not in connected_component:\n",
    "                    deq.append(ref)\n",
    "        i += 1\n",
    "        if i % 100 == 0:\n",
    "            print(f'len(cc)={len(connected_component)}, len(deq)={len(deq)}')\n",
    "        if i > 1e3:\n",
    "            break\n",
    "    return connected_component"
   ]
  },
  {
   "cell_type": "code",
   "execution_count": 175,
   "id": "d2fe3fc8-37ca-471b-93f2-aef960dcb2ae",
   "metadata": {},
   "outputs": [
    {
     "name": "stdout",
     "output_type": "stream",
     "text": [
      "len(cc)=78, len(deq)=104\n",
      "len(cc)=147, len(deq)=190\n",
      "len(cc)=220, len(deq)=232\n",
      "len(cc)=271, len(deq)=289\n",
      "len(cc)=339, len(deq)=317\n",
      "len(cc)=371, len(deq)=338\n",
      "len(cc)=428, len(deq)=375\n",
      "len(cc)=494, len(deq)=362\n",
      "len(cc)=525, len(deq)=383\n",
      "len(cc)=569, len(deq)=373\n"
     ]
    }
   ],
   "source": [
    "cc = bfs_by_ref(articles.iloc[0]._id)"
   ]
  }
 ],
 "metadata": {
  "kernelspec": {
   "display_name": "Python 3 (ipykernel)",
   "language": "python",
   "name": "python3"
  },
  "language_info": {
   "codemirror_mode": {
    "name": "ipython",
    "version": 3
   },
   "file_extension": ".py",
   "mimetype": "text/x-python",
   "name": "python",
   "nbconvert_exporter": "python",
   "pygments_lexer": "ipython3",
   "version": "3.9.10"
  }
 },
 "nbformat": 4,
 "nbformat_minor": 5
}
